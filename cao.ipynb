{
 "cells": [
  {
   "cell_type": "markdown",
   "id": "db3adf8e-1668-46ea-8727-e8b55443baa8",
   "metadata": {},
   "source": [
    "# CAO Points 2021 analysis"
   ]
  },
  {
   "cell_type": "markdown",
   "id": "927f8ce3-f371-405a-9b27-528d799188c0",
   "metadata": {},
   "source": [
    "## Purpose\n",
    "##### The purpose of this notebook is to analyse the CAO points required for Level 8 courses in 3rd level institutions in Ireland. "
   ]
  },
  {
   "cell_type": "markdown",
   "id": "fe34f25c-c3d5-4c46-9795-837591f52f73",
   "metadata": {},
   "source": [
    "### Library imports\n",
    "##### The libraries used in the analysis are numpy, pyplot and Element Tree"
   ]
  },
  {
   "cell_type": "code",
   "execution_count": 1,
   "id": "dbb2b449-cf87-41eb-b6d2-f5f02c114fb2",
   "metadata": {},
   "outputs": [],
   "source": [
    "import numpy as np\n",
    "import matplotlib.pyplot as plt\n",
    "import xml.etree.ElementTree as ET"
   ]
  },
  {
   "cell_type": "code",
   "execution_count": null,
   "id": "e954ac23-0aac-4988-a166-0b5ed0b9bfd0",
   "metadata": {},
   "outputs": [],
   "source": []
  }
 ],
 "metadata": {
  "kernelspec": {
   "display_name": "Python 3",
   "language": "python",
   "name": "python3"
  },
  "language_info": {
   "codemirror_mode": {
    "name": "ipython",
    "version": 3
   },
   "file_extension": ".py",
   "mimetype": "text/x-python",
   "name": "python",
   "nbconvert_exporter": "python",
   "pygments_lexer": "ipython3",
   "version": "3.8.8"
  }
 },
 "nbformat": 4,
 "nbformat_minor": 5
}
