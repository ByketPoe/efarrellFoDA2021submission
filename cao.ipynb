{
 "cells": [
  {
   "cell_type": "markdown",
   "id": "db3adf8e-1668-46ea-8727-e8b55443baa8",
   "metadata": {},
   "source": [
    "# CAO Points 2021 analysis\n",
    "***"
   ]
  },
  {
   "cell_type": "markdown",
   "id": "927f8ce3-f371-405a-9b27-528d799188c0",
   "metadata": {},
   "source": [
    "## Purpose\n",
    "##### The purpose of this notebook is to analyse the CAO points required for Level 8 courses in 3rd level institutions in Ireland. \n",
    "##### The data used in this analysis can be found [here](http://www.cao.ie/index.php?page=points&p=2021)."
   ]
  },
  {
   "cell_type": "markdown",
   "id": "fe34f25c-c3d5-4c46-9795-837591f52f73",
   "metadata": {},
   "source": [
    "### Library imports\n",
    "##### The libraries used in the analysis are numpy, pyplot and Element Tree"
   ]
  },
  {
   "cell_type": "code",
   "execution_count": 1,
   "id": "dbb2b449-cf87-41eb-b6d2-f5f02c114fb2",
   "metadata": {},
   "outputs": [],
   "source": [
    "import numpy as np\n",
    "import matplotlib.pyplot as plt\n",
    "import xml.etree.ElementTree as ET\n",
    "import re\n",
    "import requests as rq"
   ]
  },
  {
   "cell_type": "code",
   "execution_count": 2,
   "id": "e954ac23-0aac-4988-a166-0b5ed0b9bfd0",
   "metadata": {},
   "outputs": [],
   "source": [
    "# Get CAO points URL\n",
    "resp = rq.get('http://www2.cao.ie/points/l8.php')"
   ]
  },
  {
   "cell_type": "code",
   "execution_count": 3,
   "id": "f47b0107-69c4-448b-a646-702b0ee5dde8",
   "metadata": {},
   "outputs": [
    {
     "data": {
      "text/plain": [
       "<Response [200]>"
      ]
     },
     "execution_count": 3,
     "metadata": {},
     "output_type": "execute_result"
    }
   ],
   "source": [
    "# Check request status\n",
    "resp"
   ]
  },
  {
   "cell_type": "markdown",
   "id": "4af5b715-b1f1-4328-a239-f481a294dbca",
   "metadata": {},
   "source": [
    "### Save Dataset\n",
    "##### Using the datetime module, create a unique file name for the dataset and save it to back it up. "
   ]
  },
  {
   "cell_type": "code",
   "execution_count": 4,
   "id": "ad1447fb-ce4d-4197-a4d4-a94f72ef57cd",
   "metadata": {},
   "outputs": [],
   "source": [
    "import datetime as dt\n",
    "now = dt.datetime.now()\n",
    "nowstr = now.strftime('%Y%m%d_%H%M%S')\n",
    "filenameHTML = 'data/cao2021_html_' + nowstr + '.html'"
   ]
  },
  {
   "cell_type": "markdown",
   "id": "3dfe890f-b88c-48dc-b552-2148a7acf02d",
   "metadata": {},
   "source": [
    "##### The encoding given by the server is not the correct encoding that the html is in. The following lines of code correct this. "
   ]
  },
  {
   "cell_type": "code",
   "execution_count": 5,
   "id": "993b4fa5-5896-4fed-86ce-d0174d6c87c7",
   "metadata": {},
   "outputs": [
    {
     "name": "stdout",
     "output_type": "stream",
     "text": [
      "iso-8859-1\n",
      "cp1252\n"
     ]
    }
   ],
   "source": [
    "original_encoding = resp.encoding\n",
    "resp.encoding = 'cp1252'\n",
    "print(original_encoding)\n",
    "print(resp.encoding)"
   ]
  },
  {
   "cell_type": "markdown",
   "id": "5c396f04-0860-4b41-848c-323ab0c5cba0",
   "metadata": {},
   "source": [
    "##### Now that the enoding has been corrected, the data can be saved to a csv file."
   ]
  },
  {
   "cell_type": "code",
   "execution_count": 6,
   "id": "f2735890-2856-401a-b915-b64d5f65df0c",
   "metadata": {},
   "outputs": [],
   "source": [
    "with open(filenameHTML, 'w') as f:\n",
    "    f.write(resp.text)"
   ]
  },
  {
   "cell_type": "code",
   "execution_count": 7,
   "id": "ee3e8e75-afd5-4b52-b6d3-6bfde1bdbea6",
   "metadata": {},
   "outputs": [],
   "source": [
    "# Compile regular expression for matching lines\n",
    "re_course = re.compile(r'([A-Z]{2}[0-9]{3})  (.*)([0-9]{3})(\\*?) *')"
   ]
  },
  {
   "cell_type": "code",
   "execution_count": 8,
   "id": "6a162f97-5093-4f36-a1ad-ecf67d8eb7ff",
   "metadata": {
    "scrolled": true,
    "tags": []
   },
   "outputs": [
    {
     "name": "stdout",
     "output_type": "stream",
     "text": [
      "Total number of lines is 922\n"
     ]
    }
   ],
   "source": [
    "# iterate through lines in the response\n",
    "filenameCSV = 'data/cao2021_csv_' + nowstr + '.csv'\n",
    "\n",
    "num_lines = 0 \n",
    "\n",
    "with open(filenameCSV, 'w') as f:\n",
    "    for line in resp.iter_lines():\n",
    "        # Get only the lines with courses and points\n",
    "        dline = line.decode('cp1252')\n",
    "        if re_course.fullmatch(dline):\n",
    "            num_lines += 1\n",
    "            # Add commas to make into CSV file later\n",
    "            # csv_version = re_course.sub(r'\\1,\\2,\\3\\4', line.decode('cp1252'))\n",
    "            linesplit = re.split('  +', dline)\n",
    "            # print(csv_version)\n",
    "            f.write(','.join(linesplit) + '\\n')\n",
    "print(f\"Total number of lines is {num_lines}\")"
   ]
  },
  {
   "cell_type": "code",
   "execution_count": null,
   "id": "8cd7d663-912e-4eb7-b59d-f55146e28fff",
   "metadata": {},
   "outputs": [],
   "source": []
  }
 ],
 "metadata": {
  "kernelspec": {
   "display_name": "Python 3",
   "language": "python",
   "name": "python3"
  },
  "language_info": {
   "codemirror_mode": {
    "name": "ipython",
    "version": 3
   },
   "file_extension": ".py",
   "mimetype": "text/x-python",
   "name": "python",
   "nbconvert_exporter": "python",
   "pygments_lexer": "ipython3",
   "version": "3.8.8"
  }
 },
 "nbformat": 4,
 "nbformat_minor": 5
}
